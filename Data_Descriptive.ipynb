{
  "nbformat": 4,
  "nbformat_minor": 0,
  "metadata": {
    "colab": {
      "name": "Data Descriptive",
      "provenance": [],
      "collapsed_sections": []
    },
    "kernelspec": {
      "display_name": "Python 3",
      "name": "python3"
    },
    "language_info": {
      "name": "python"
    }
  },
  "cells": [
    {
      "cell_type": "code",
      "metadata": {
        "id": "IpCY6w_kpJ_f",
        "colab": {
          "base_uri": "https://localhost:8080/"
        },
        "outputId": "e1618a89-8603-49b3-9524-8b04f7652d41"
      },
      "source": [
        "!pip install fpdf"
      ],
      "execution_count": null,
      "outputs": [
        {
          "output_type": "stream",
          "text": [
            "Collecting fpdf\n",
            "  Downloading fpdf-1.7.2.tar.gz (39 kB)\n",
            "Building wheels for collected packages: fpdf\n",
            "  Building wheel for fpdf (setup.py) ... \u001b[?25l\u001b[?25hdone\n",
            "  Created wheel for fpdf: filename=fpdf-1.7.2-py2.py3-none-any.whl size=40722 sha256=8d373b1a5303eb695d7bc9e5badd5a5f85b6ad00bf31f459a0d2151120be5de5\n",
            "  Stored in directory: /root/.cache/pip/wheels/d7/ca/c8/86467e7957bbbcbdf4cf4870fc7dc95e9a16404b2e3c3a98c3\n",
            "Successfully built fpdf\n",
            "Installing collected packages: fpdf\n",
            "Successfully installed fpdf-1.7.2\n"
          ],
          "name": "stdout"
        }
      ]
    },
    {
      "cell_type": "code",
      "metadata": {
        "id": "dltLyiMoo6u2"
      },
      "source": [
        "import os\n",
        "import shutil\n",
        "import numpy as np\n",
        "import pandas as pd\n",
        "import calendar\n",
        "from datetime import datetime\n",
        "from fpdf import FPDF\n",
        "from datetime import date\n",
        "\n",
        "import matplotlib.pyplot as plt\n",
        "from matplotlib import rcParams\n",
        "rcParams['axes.spines.top'] = False\n",
        "rcParams['axes.spines.right'] = False"
      ],
      "execution_count": 373,
      "outputs": []
    },
    {
      "cell_type": "markdown",
      "metadata": {
        "id": "oucLdElhOgyg"
      },
      "source": [
        "Создаем 2 случайных датасета"
      ]
    },
    {
      "cell_type": "code",
      "metadata": {
        "id": "95JVkQhcOgHG"
      },
      "source": [
        "df1 = pd.DataFrame(np.random.randint(0,100,size=(100, 4)), columns=list('ABCD'))\n",
        "df2 = pd.DataFrame(np.random.randint(0,100,size=(100, 4)), columns=list('ABCD'))"
      ],
      "execution_count": 401,
      "outputs": []
    },
    {
      "cell_type": "markdown",
      "metadata": {
        "id": "ydjQ0xFAOrkI"
      },
      "source": [
        "Предобработка данных"
      ]
    },
    {
      "cell_type": "code",
      "metadata": {
        "colab": {
          "base_uri": "https://localhost:8080/",
          "height": 173
        },
        "id": "uzQOhgpL9qdF",
        "outputId": "2020f4ed-f130-49ac-d664-3b5d14ad268e"
      },
      "source": [
        "df1 = df1.describe().transpose()[[\"count\", \"mean\", \"std\"]]\n",
        "df2 = df2.describe().transpose()[[\"count\", \"mean\", \"std\"]]\n",
        "df3 = pd.merge(df1, df2, left_index=True, right_index=True, suffixes=(' ','  '))\n",
        "df3 = df3.round({'std ': 2, 'std  ': 2})\n",
        "df3['AI comment'] = 'ok'\n",
        "df3"
      ],
      "execution_count": 402,
      "outputs": [
        {
          "output_type": "execute_result",
          "data": {
            "text/html": [
              "<div>\n",
              "<style scoped>\n",
              "    .dataframe tbody tr th:only-of-type {\n",
              "        vertical-align: middle;\n",
              "    }\n",
              "\n",
              "    .dataframe tbody tr th {\n",
              "        vertical-align: top;\n",
              "    }\n",
              "\n",
              "    .dataframe thead th {\n",
              "        text-align: right;\n",
              "    }\n",
              "</style>\n",
              "<table border=\"1\" class=\"dataframe\">\n",
              "  <thead>\n",
              "    <tr style=\"text-align: right;\">\n",
              "      <th></th>\n",
              "      <th>count</th>\n",
              "      <th>mean</th>\n",
              "      <th>std</th>\n",
              "      <th>count</th>\n",
              "      <th>mean</th>\n",
              "      <th>std</th>\n",
              "      <th>AI comment</th>\n",
              "    </tr>\n",
              "  </thead>\n",
              "  <tbody>\n",
              "    <tr>\n",
              "      <th>A</th>\n",
              "      <td>100.0</td>\n",
              "      <td>48.47</td>\n",
              "      <td>28.10</td>\n",
              "      <td>100.0</td>\n",
              "      <td>52.22</td>\n",
              "      <td>28.46</td>\n",
              "      <td>ok</td>\n",
              "    </tr>\n",
              "    <tr>\n",
              "      <th>B</th>\n",
              "      <td>100.0</td>\n",
              "      <td>52.31</td>\n",
              "      <td>30.16</td>\n",
              "      <td>100.0</td>\n",
              "      <td>47.95</td>\n",
              "      <td>30.58</td>\n",
              "      <td>ok</td>\n",
              "    </tr>\n",
              "    <tr>\n",
              "      <th>C</th>\n",
              "      <td>100.0</td>\n",
              "      <td>44.21</td>\n",
              "      <td>31.21</td>\n",
              "      <td>100.0</td>\n",
              "      <td>50.51</td>\n",
              "      <td>27.97</td>\n",
              "      <td>ok</td>\n",
              "    </tr>\n",
              "    <tr>\n",
              "      <th>D</th>\n",
              "      <td>100.0</td>\n",
              "      <td>45.09</td>\n",
              "      <td>28.74</td>\n",
              "      <td>100.0</td>\n",
              "      <td>49.24</td>\n",
              "      <td>29.44</td>\n",
              "      <td>ok</td>\n",
              "    </tr>\n",
              "  </tbody>\n",
              "</table>\n",
              "</div>"
            ],
            "text/plain": [
              "   count   mean    std   count    mean    std   AI comment\n",
              "A   100.0  48.47  28.10    100.0   52.22  28.46         ok\n",
              "B   100.0  52.31  30.16    100.0   47.95  30.58         ok\n",
              "C   100.0  44.21  31.21    100.0   50.51  27.97         ok\n",
              "D   100.0  45.09  28.74    100.0   49.24  29.44         ok"
            ]
          },
          "metadata": {},
          "execution_count": 402
        }
      ]
    },
    {
      "cell_type": "code",
      "metadata": {
        "id": "nqlPjtsapoKn"
      },
      "source": [
        "class PDF(FPDF):\n",
        "    def __init__(self):\n",
        "        super().__init__()\n",
        "        self.WIDTH = 210\n",
        "        self.HEIGHT = 297\n",
        "        \n",
        "    def header(self):\n",
        "        # Custom logo and positioning\n",
        "        # Create an `assets` folder and put any wide and short image inside\n",
        "        # Name the image `logo.png`\n",
        "        self.image('logo.png', 10, 8, 33)\n",
        "        self.set_font('Arial', 'B', 11)\n",
        "        self.cell(self.WIDTH - 80)\n",
        "        self.cell(60, 1, 'Data Descriptive Report', 0, 0, 'R')\n",
        "        self.ln(20)\n",
        "        \n",
        "    def footer(self):\n",
        "        # Page numbers in the footer\n",
        "        self.set_y(-15)\n",
        "        self.set_font('Arial', 'I', 8)\n",
        "        self.set_text_color(128)\n",
        "        self.cell(0, 10, 'Page ' + str(self.page_no()), 0, 0, 'C')\n",
        "\n",
        "    def page_body(self, df):\n",
        "        # Determine how many plots there are per page and set positions\n",
        "        # and margins accordingly\n",
        "        self.set_font('Arial','',9)\n",
        "        df_name =[x for x in globals() if globals()[x] is df][0]\n",
        "        today = date.today()\n",
        "        self.cell(10,1,\"Dataset: \"+df_name+\". Date: %s.\" % today)\n",
        "        self.ln(10)\n",
        "        # table header\n",
        "        self.cell(20,6,\"\",0,0,'C')\n",
        "        self.cell(60,6,\"Control Dataset\",1,0,'C')\n",
        "        self.cell(80,6,\"Control Dataset\",1,1,'C')      \n",
        "        self.cell(20,6,\"Columns\",1,0,'C')\n",
        "        for c in df.columns:\n",
        "          newrow = 0\n",
        "          if c == 'AI comment': #new line after column with name std'\n",
        "              newrow = 1\n",
        "          self.cell(20,6,c,1,newrow,'C')\n",
        "\n",
        "        for roq in df.iterrows():\n",
        "          index = roq[0]\n",
        "          values = roq[1]\n",
        "          self.cell(20,6,index,1,0,'C')\n",
        "          for i in range(len(values)):\n",
        "            newrow = 0\n",
        "            if type(values.values[i]) == pd.core.series.Series:\n",
        "              printed_value = str(\"{:.2f}\".format(values.values[i]))\n",
        "            else:\n",
        "              printed_value = str(values.values[i])\n",
        "            if i == len(values)-1:\n",
        "              newrow = 1\n",
        "            self.cell(20,6,printed_value,1,newrow,'C')\n",
        "\n",
        "        self.ln(20)                \n",
        "            \n",
        "    def print_page(self, df):\n",
        "        # Generates the report\n",
        "        self.add_page()\n",
        "        self.page_body(df)"
      ],
      "execution_count": 403,
      "outputs": []
    },
    {
      "cell_type": "code",
      "metadata": {
        "colab": {
          "base_uri": "https://localhost:8080/",
          "height": 35
        },
        "id": "UN193-d8pq0f",
        "outputId": "4ab2f529-8837-4949-bfbd-ea92cd2ef753"
      },
      "source": [
        "pdf = PDF()\n",
        "pdf.print_page(df3)\n",
        "pdf.output('DataCheckReport.pdf', 'F')"
      ],
      "execution_count": 404,
      "outputs": [
        {
          "output_type": "execute_result",
          "data": {
            "application/vnd.google.colaboratory.intrinsic+json": {
              "type": "string"
            },
            "text/plain": [
              "''"
            ]
          },
          "metadata": {},
          "execution_count": 404
        }
      ]
    }
  ]
}