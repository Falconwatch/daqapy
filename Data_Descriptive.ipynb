{
 "cells": [
  {
   "cell_type": "code",
   "execution_count": 1,
   "metadata": {
    "colab": {
     "base_uri": "https://localhost:8080/"
    },
    "id": "IpCY6w_kpJ_f",
    "outputId": "e1618a89-8603-49b3-9524-8b04f7652d41"
   },
   "outputs": [
    {
     "name": "stdout",
     "output_type": "stream",
     "text": [
      "\u001b[33mDEPRECATION: Python 2.7 reached the end of its life on January 1st, 2020. Please upgrade your Python as Python 2.7 is no longer maintained. pip 21.0 will drop support for Python 2.7 in January 2021. More details about Python 2 support in pip can be found at https://pip.pypa.io/en/latest/development/release-process/#python-2-support pip 21.0 will remove support for this functionality.\u001b[0m\n",
      "Defaulting to user installation because normal site-packages is not writeable\n",
      "Requirement already satisfied: fpdf in /Users/a14631520/Library/Python/2.7/lib/python/site-packages (1.7.2)\n"
     ]
    }
   ],
   "source": [
    "!pip install fpdf"
   ]
  },
  {
   "cell_type": "code",
   "execution_count": 3,
   "metadata": {
    "id": "dltLyiMoo6u2"
   },
   "outputs": [],
   "source": [
    "import os\n",
    "import shutil\n",
    "import numpy as np\n",
    "import pandas as pd\n",
    "import calendar\n",
    "from datetime import datetime\n",
    "from fpdf import FPDF\n",
    "from datetime import date\n",
    "\n",
    "import matplotlib.pyplot as plt\n",
    "from matplotlib import rcParams\n",
    "rcParams['axes.spines.top'] = False\n",
    "rcParams['axes.spines.right'] = False"
   ]
  },
  {
   "cell_type": "markdown",
   "metadata": {
    "id": "oucLdElhOgyg"
   },
   "source": [
    "Создаем 2 случайных датасета"
   ]
  },
  {
   "cell_type": "code",
   "execution_count": 4,
   "metadata": {
    "id": "95JVkQhcOgHG"
   },
   "outputs": [],
   "source": [
    "df1 = pd.DataFrame(np.random.randint(0,100,size=(100, 4)), columns=list('ABCD'))\n",
    "df2 = pd.DataFrame(np.random.randint(0,100,size=(100, 4)), columns=list('ABCD'))"
   ]
  },
  {
   "cell_type": "markdown",
   "metadata": {
    "id": "ydjQ0xFAOrkI"
   },
   "source": [
    "Предобработка данных"
   ]
  },
  {
   "cell_type": "code",
   "execution_count": 5,
   "metadata": {
    "colab": {
     "base_uri": "https://localhost:8080/",
     "height": 173
    },
    "id": "uzQOhgpL9qdF",
    "outputId": "2020f4ed-f130-49ac-d664-3b5d14ad268e"
   },
   "outputs": [
    {
     "data": {
      "text/html": [
       "<div>\n",
       "<style scoped>\n",
       "    .dataframe tbody tr th:only-of-type {\n",
       "        vertical-align: middle;\n",
       "    }\n",
       "\n",
       "    .dataframe tbody tr th {\n",
       "        vertical-align: top;\n",
       "    }\n",
       "\n",
       "    .dataframe thead th {\n",
       "        text-align: right;\n",
       "    }\n",
       "</style>\n",
       "<table border=\"1\" class=\"dataframe\">\n",
       "  <thead>\n",
       "    <tr style=\"text-align: right;\">\n",
       "      <th></th>\n",
       "      <th>count</th>\n",
       "      <th>mean</th>\n",
       "      <th>std</th>\n",
       "      <th>count</th>\n",
       "      <th>mean</th>\n",
       "      <th>std</th>\n",
       "      <th>AI comment</th>\n",
       "    </tr>\n",
       "  </thead>\n",
       "  <tbody>\n",
       "    <tr>\n",
       "      <th>A</th>\n",
       "      <td>100.0</td>\n",
       "      <td>51.75</td>\n",
       "      <td>27.63</td>\n",
       "      <td>100.0</td>\n",
       "      <td>47.09</td>\n",
       "      <td>28.90</td>\n",
       "      <td>ok</td>\n",
       "    </tr>\n",
       "    <tr>\n",
       "      <th>B</th>\n",
       "      <td>100.0</td>\n",
       "      <td>43.87</td>\n",
       "      <td>28.50</td>\n",
       "      <td>100.0</td>\n",
       "      <td>50.12</td>\n",
       "      <td>27.66</td>\n",
       "      <td>ok</td>\n",
       "    </tr>\n",
       "    <tr>\n",
       "      <th>C</th>\n",
       "      <td>100.0</td>\n",
       "      <td>43.66</td>\n",
       "      <td>28.80</td>\n",
       "      <td>100.0</td>\n",
       "      <td>42.03</td>\n",
       "      <td>27.11</td>\n",
       "      <td>ok</td>\n",
       "    </tr>\n",
       "    <tr>\n",
       "      <th>D</th>\n",
       "      <td>100.0</td>\n",
       "      <td>49.03</td>\n",
       "      <td>29.90</td>\n",
       "      <td>100.0</td>\n",
       "      <td>51.87</td>\n",
       "      <td>27.91</td>\n",
       "      <td>ok</td>\n",
       "    </tr>\n",
       "  </tbody>\n",
       "</table>\n",
       "</div>"
      ],
      "text/plain": [
       "   count   mean    std   count    mean    std   AI comment\n",
       "A   100.0  51.75  27.63    100.0   47.09  28.90         ok\n",
       "B   100.0  43.87  28.50    100.0   50.12  27.66         ok\n",
       "C   100.0  43.66  28.80    100.0   42.03  27.11         ok\n",
       "D   100.0  49.03  29.90    100.0   51.87  27.91         ok"
      ]
     },
     "execution_count": 5,
     "metadata": {},
     "output_type": "execute_result"
    }
   ],
   "source": [
    "df1 = df1.describe().transpose()[[\"count\", \"mean\", \"std\"]]\n",
    "df2 = df2.describe().transpose()[[\"count\", \"mean\", \"std\"]]\n",
    "df3 = pd.merge(df1, df2, left_index=True, right_index=True, suffixes=(' ','  '))\n",
    "df3 = df3.round({'std ': 2, 'std  ': 2})\n",
    "df3['AI comment'] = 'ok'\n",
    "df3"
   ]
  },
  {
   "cell_type": "code",
   "execution_count": 6,
   "metadata": {
    "id": "nqlPjtsapoKn"
   },
   "outputs": [],
   "source": [
    "class PDF(FPDF):\n",
    "    def __init__(self):\n",
    "        super().__init__()\n",
    "        self.WIDTH = 210\n",
    "        self.HEIGHT = 297\n",
    "        \n",
    "    def header(self):\n",
    "        # Custom logo and positioning\n",
    "        # Create an `assets` folder and put any wide and short image inside\n",
    "        # Name the image `logo.png`\n",
    "        self.image('logo.png', 10, 8, 33)\n",
    "        self.set_font('Arial', 'B', 11)\n",
    "        self.cell(self.WIDTH - 80)\n",
    "        self.cell(60, 1, 'Daqapy Report', 0, 0, 'R')\n",
    "        self.ln(20)\n",
    "        \n",
    "    def footer(self):\n",
    "        # Page numbers in the footer\n",
    "        self.set_y(-15)\n",
    "        self.set_font('Arial', 'I', 8)\n",
    "        self.set_text_color(128)\n",
    "        self.cell(0, 10, 'Page ' + str(self.page_no()), 0, 0, 'C')\n",
    "\n",
    "    def page_body(self, df):\n",
    "        # Determine how many plots there are per page and set positions\n",
    "        # and margins accordingly\n",
    "        self.set_font('Arial','',9)\n",
    "        df_name =[x for x in globals() if globals()[x] is df][0]\n",
    "        today = date.today()\n",
    "        self.cell(10,1,\"Dataset: \"+df_name+\". Date: %s.\" % today)\n",
    "        self.ln(10)\n",
    "        # table header\n",
    "        self.cell(20,6,\"\",0,0,'C')\n",
    "        self.cell(60,6,\"Control Dataset\",1,0,'C')\n",
    "        self.cell(80,6,\"Control Dataset\",1,1,'C')      \n",
    "        self.cell(20,6,\"Columns\",1,0,'C')\n",
    "        for c in df.columns:\n",
    "          newrow = 0\n",
    "          if c == 'AI comment': #new line after column with name std'\n",
    "              newrow = 1\n",
    "          self.cell(20,6,c,1,newrow,'C')\n",
    "\n",
    "        for roq in df.iterrows():\n",
    "          index = roq[0]\n",
    "          values = roq[1]\n",
    "          self.cell(20,6,index,1,0,'C')\n",
    "          for i in range(len(values)):\n",
    "            newrow = 0\n",
    "            if type(values.values[i]) == pd.core.series.Series:\n",
    "              printed_value = str(\"{:.2f}\".format(values.values[i]))\n",
    "            else:\n",
    "              printed_value = str(values.values[i])\n",
    "            if i == len(values)-1:\n",
    "              newrow = 1\n",
    "            self.cell(20,6,printed_value,1,newrow,'C')\n",
    "\n",
    "        self.ln(20)                \n",
    "            \n",
    "    def print_page(self, df):\n",
    "        # Generates the report\n",
    "        self.add_page()\n",
    "        self.page_body(df)"
   ]
  },
  {
   "cell_type": "code",
   "execution_count": 7,
   "metadata": {
    "colab": {
     "base_uri": "https://localhost:8080/",
     "height": 35
    },
    "id": "UN193-d8pq0f",
    "outputId": "4ab2f529-8837-4949-bfbd-ea92cd2ef753"
   },
   "outputs": [
    {
     "data": {
      "text/plain": [
       "''"
      ]
     },
     "execution_count": 7,
     "metadata": {},
     "output_type": "execute_result"
    }
   ],
   "source": [
    "pdf = PDF()\n",
    "pdf.print_page(df3)\n",
    "pdf.output('DaQaReport.pdf', 'F')"
   ]
  },
  {
   "cell_type": "code",
   "execution_count": null,
   "metadata": {},
   "outputs": [],
   "source": []
  }
 ],
 "metadata": {
  "colab": {
   "collapsed_sections": [],
   "name": "Data Descriptive",
   "provenance": []
  },
  "kernelspec": {
   "display_name": "Python 3",
   "language": "python",
   "name": "python3"
  },
  "language_info": {
   "codemirror_mode": {
    "name": "ipython",
    "version": 3
   },
   "file_extension": ".py",
   "mimetype": "text/x-python",
   "name": "python",
   "nbconvert_exporter": "python",
   "pygments_lexer": "ipython3",
   "version": "3.7.6"
  }
 },
 "nbformat": 4,
 "nbformat_minor": 1
}
