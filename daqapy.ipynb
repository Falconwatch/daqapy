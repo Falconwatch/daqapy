{
 "cells": [
  {
   "cell_type": "code",
   "execution_count": 1,
   "metadata": {
    "colab": {
     "base_uri": "https://localhost:8080/"
    },
    "id": "IpCY6w_kpJ_f",
    "outputId": "e1618a89-8603-49b3-9524-8b04f7652d41"
   },
   "outputs": [
    {
     "name": "stdout",
     "output_type": "stream",
     "text": [
      "\u001b[33mDEPRECATION: Python 2.7 reached the end of its life on January 1st, 2020. Please upgrade your Python as Python 2.7 is no longer maintained. pip 21.0 will drop support for Python 2.7 in January 2021. More details about Python 2 support in pip can be found at https://pip.pypa.io/en/latest/development/release-process/#python-2-support pip 21.0 will remove support for this functionality.\u001b[0m\n",
      "Defaulting to user installation because normal site-packages is not writeable\n",
      "Requirement already satisfied: fpdf in /Users/a14631520/Library/Python/2.7/lib/python/site-packages (1.7.2)\n"
     ]
    }
   ],
   "source": [
    "!pip install fpdf"
   ]
  },
  {
   "cell_type": "code",
   "execution_count": 42,
   "metadata": {
    "id": "dltLyiMoo6u2"
   },
   "outputs": [],
   "source": [
    "import os\n",
    "import shutil\n",
    "import numpy as np\n",
    "import pandas as pd\n",
    "import calendar\n",
    "from datetime import datetime\n",
    "from fpdf import FPDF\n",
    "from datetime import date\n",
    "import matplotlib.pyplot as plt\n",
    "from matplotlib import rcParams\n",
    "rcParams['axes.spines.top'] = False\n",
    "rcParams['axes.spines.right'] = False"
   ]
  },
  {
   "cell_type": "markdown",
   "metadata": {
    "id": "oucLdElhOgyg"
   },
   "source": [
    "Создаем 2 случайных датасета"
   ]
  },
  {
   "cell_type": "code",
   "execution_count": 165,
   "metadata": {
    "id": "95JVkQhcOgHG"
   },
   "outputs": [],
   "source": [
    "df1 = pd.DataFrame(np.random.randint(0,100,size=(100, 4)), columns=list('ABCD'))\n",
    "df2 = pd.DataFrame(np.random.randint(0,100,size=(102, 5)), columns=list('ABCDE'))"
   ]
  },
  {
   "cell_type": "code",
   "execution_count": 180,
   "metadata": {
    "id": "nqlPjtsapoKn"
   },
   "outputs": [],
   "source": [
    "class PDF(FPDF):\n",
    "    def __init__(self):\n",
    "        super().__init__()\n",
    "        self.WIDTH = 210\n",
    "        self.HEIGHT = 297\n",
    "        \n",
    "    def header(self):\n",
    "        # Custom logo and positioning\n",
    "        # Create an `assets` folder and put any wide and short image inside\n",
    "        # Name the image `logo.png`\n",
    "        self.image('logo.png', 10, 8, 33)\n",
    "        self.set_font('Arial', 'B', 11)\n",
    "        self.cell(self.WIDTH - 80)\n",
    "        self.cell(60, 1, 'Daqapy Report', 0, 1, 'R')\n",
    "        \n",
    "        self.set_font('Arial', '', 7)    \n",
    "        self.set_text_color(128)\n",
    "        self.cell(0, 7, 'https://github.com/falconwatch/daqapy', 0, 0, 'R')\n",
    "        self.ln(20)\n",
    "        \n",
    "    def footer(self):\n",
    "        # Page numbers in the footer\n",
    "        self.set_y(-15)\n",
    "        self.set_font('Arial', 'I', 8)\n",
    "        self.set_text_color(128)\n",
    "        self.cell(0, 10, 'Page ' + str(self.page_no()), 0, 0, 'C')\n",
    "\n",
    "    def page_body(self, df1, df2):\n",
    "\n",
    "        # data preparation\n",
    "        df1_temp = df1.describe().transpose()[[\"count\", \"mean\", \"std\"]]\n",
    "        df2_temp = df2.describe().transpose()[[\"count\", \"mean\", \"std\"]]\n",
    "        df3 = pd.merge(df1_temp, df2_temp, left_index=True, right_index=True, suffixes=(' ','  '))\n",
    "        df3 = df3.round({'std ': 2, 'std  ': 2, 'mean ': 2, 'mean  ': 2})\n",
    "        df3['AI comment'] = 'ok'\n",
    "        \n",
    "        if (set(df1.columns) == set(df2.columns)):\n",
    "            col_comparisson = 'the same columns'\n",
    "        else:\n",
    "            col_comparisson = 'different columns'\n",
    "\n",
    "        \n",
    "        # Determine how many plots there are per page and set positions\n",
    "        # and margins accordingly\n",
    "        self.set_font('Arial','',9)\n",
    "        #df_name =[x for x in globals() if globals()[x] is df][0]\n",
    "        df_name = '232'\n",
    "        today = date.today()\n",
    "        self.cell(10,1,\"Report date: %s.\" % today)\n",
    "        self.ln(10)\n",
    "        # table1\n",
    "        self.cell(110,6,\"\",0,0,'C')\n",
    "        self.cell(40,6,\"Control Dataset\",1,0,'C')\n",
    "        self.cell(40,6,\"Test Dataset\",1,1,'C') \n",
    "        self.cell(110,6,\"Number of rows\",1,0,'L')\n",
    "        self.cell(40,6,str(df1.shape[0]),1,0,'C')\n",
    "        self.cell(40,6,str(df2.shape[0]),1,1,'C')    \n",
    "        self.cell(110,6,\"Number of columns\",1,0,'L')\n",
    "        self.cell(40,6,str(df1.shape[1]),1,0,'C')\n",
    "        self.cell(40,6,str(df2.shape[1]),1,1,'C')         \n",
    "        self.ln(10)\n",
    "        # table1\n",
    "        self.cell(110,6,\"Attribute composition of the control and test sample by field names\",1,0,'L')\n",
    "        self.cell(80,6,col_comparisson,1,1,'C')        \n",
    "        self.ln(10)        \n",
    "        # table3 \n",
    "        self.cell(50,6,\"\",1,0,'C')\n",
    "        self.cell(60,6,\"Control Dataset\",1,0,'C')\n",
    "        self.cell(80,6,\"Test Dataset\",1,1,'C')      \n",
    "        self.cell(50,6,\"Columns\",1,0,'L')\n",
    "        for c in df3.columns:\n",
    "          newrow = 0\n",
    "          if c == 'AI comment': #new line after column with name std'\n",
    "              newrow = 1\n",
    "          self.cell(20,6,c,1,newrow,'C')\n",
    "\n",
    "        for roq in df3.iterrows():\n",
    "          index = roq[0]\n",
    "          values = roq[1]\n",
    "          self.cell(50,6,index,1,0,'L')\n",
    "          for i in range(len(values)):\n",
    "            newrow = 0\n",
    "            if type(values.values[i]) == pd.core.series.Series:\n",
    "              printed_value = str(\"{:.2f}\".format(values.values[i]))\n",
    "            else:\n",
    "              printed_value = str(values.values[i])\n",
    "            if i == len(values)-1:\n",
    "              newrow = 1\n",
    "            self.cell(20,6,printed_value,1,newrow,'C')\n",
    "\n",
    "        self.ln(20)                \n",
    "            \n",
    "    def print_page(self, df1, df2):\n",
    "        # Generates the report\n",
    "        self.add_page()\n",
    "        self.page_body(df1, df2)"
   ]
  },
  {
   "cell_type": "code",
   "execution_count": 181,
   "metadata": {
    "colab": {
     "base_uri": "https://localhost:8080/",
     "height": 35
    },
    "id": "UN193-d8pq0f",
    "outputId": "4ab2f529-8837-4949-bfbd-ea92cd2ef753"
   },
   "outputs": [
    {
     "data": {
      "text/plain": [
       "''"
      ]
     },
     "execution_count": 181,
     "metadata": {},
     "output_type": "execute_result"
    }
   ],
   "source": [
    "pdf = PDF()\n",
    "pdf.print_page(df1, df2)\n",
    "pdf.output('daqareport.pdf', 'F')"
   ]
  },
  {
   "cell_type": "code",
   "execution_count": null,
   "metadata": {},
   "outputs": [],
   "source": []
  }
 ],
 "metadata": {
  "colab": {
   "collapsed_sections": [],
   "name": "Data Descriptive",
   "provenance": []
  },
  "kernelspec": {
   "display_name": "Python 3",
   "language": "python",
   "name": "python3"
  },
  "language_info": {
   "codemirror_mode": {
    "name": "ipython",
    "version": 3
   },
   "file_extension": ".py",
   "mimetype": "text/x-python",
   "name": "python",
   "nbconvert_exporter": "python",
   "pygments_lexer": "ipython3",
   "version": "3.7.6"
  }
 },
 "nbformat": 4,
 "nbformat_minor": 1
}
